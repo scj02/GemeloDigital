{
  "nbformat": 4,
  "nbformat_minor": 0,
  "metadata": {
    "colab": {
      "provenance": [],
      "include_colab_link": true
    },
    "kernelspec": {
      "name": "python3",
      "display_name": "Python 3"
    },
    "language_info": {
      "name": "python"
    }
  },
  "cells": [
    {
      "cell_type": "markdown",
      "metadata": {
        "id": "view-in-github",
        "colab_type": "text"
      },
      "source": [
        "<a href=\"https://colab.research.google.com/github/scj02/GemeloDigital/blob/Procesos_Auditoria/Prueba_Gemelo.ipynb\" target=\"_parent\"><img src=\"https://colab.research.google.com/assets/colab-badge.svg\" alt=\"Open In Colab\"/></a>"
      ]
    },
    {
      "cell_type": "code",
      "source": [
        "!pip install web3"
      ],
      "metadata": {
        "colab": {
          "base_uri": "https://localhost:8080/"
        },
        "id": "qjEjf_AM508m",
        "outputId": "5401e563-19a3-4444-a05e-b22acad46f07"
      },
      "execution_count": 42,
      "outputs": [
        {
          "output_type": "stream",
          "name": "stdout",
          "text": [
            "Requirement already satisfied: web3 in /usr/local/lib/python3.12/dist-packages (7.14.0)\n",
            "Requirement already satisfied: eth-abi>=5.0.1 in /usr/local/lib/python3.12/dist-packages (from web3) (5.2.0)\n",
            "Requirement already satisfied: eth-account>=0.13.6 in /usr/local/lib/python3.12/dist-packages (from web3) (0.13.7)\n",
            "Requirement already satisfied: eth-hash>=0.5.1 in /usr/local/lib/python3.12/dist-packages (from eth-hash[pycryptodome]>=0.5.1->web3) (0.7.1)\n",
            "Requirement already satisfied: eth-typing>=5.0.0 in /usr/local/lib/python3.12/dist-packages (from web3) (5.2.1)\n",
            "Requirement already satisfied: eth-utils>=5.0.0 in /usr/local/lib/python3.12/dist-packages (from web3) (5.3.1)\n",
            "Requirement already satisfied: hexbytes>=1.2.0 in /usr/local/lib/python3.12/dist-packages (from web3) (1.3.1)\n",
            "Requirement already satisfied: aiohttp>=3.7.4.post0 in /usr/local/lib/python3.12/dist-packages (from web3) (3.13.0)\n",
            "Requirement already satisfied: pydantic>=2.4.0 in /usr/local/lib/python3.12/dist-packages (from web3) (2.11.10)\n",
            "Requirement already satisfied: requests>=2.23.0 in /usr/local/lib/python3.12/dist-packages (from web3) (2.32.4)\n",
            "Requirement already satisfied: typing-extensions>=4.0.1 in /usr/local/lib/python3.12/dist-packages (from web3) (4.15.0)\n",
            "Requirement already satisfied: types-requests>=2.0.0 in /usr/local/lib/python3.12/dist-packages (from web3) (2.32.4.20250913)\n",
            "Requirement already satisfied: websockets<16.0.0,>=10.0.0 in /usr/local/lib/python3.12/dist-packages (from web3) (15.0.1)\n",
            "Requirement already satisfied: pyunormalize>=15.0.0 in /usr/local/lib/python3.12/dist-packages (from web3) (17.0.0)\n",
            "Requirement already satisfied: aiohappyeyeballs>=2.5.0 in /usr/local/lib/python3.12/dist-packages (from aiohttp>=3.7.4.post0->web3) (2.6.1)\n",
            "Requirement already satisfied: aiosignal>=1.4.0 in /usr/local/lib/python3.12/dist-packages (from aiohttp>=3.7.4.post0->web3) (1.4.0)\n",
            "Requirement already satisfied: attrs>=17.3.0 in /usr/local/lib/python3.12/dist-packages (from aiohttp>=3.7.4.post0->web3) (25.4.0)\n",
            "Requirement already satisfied: frozenlist>=1.1.1 in /usr/local/lib/python3.12/dist-packages (from aiohttp>=3.7.4.post0->web3) (1.8.0)\n",
            "Requirement already satisfied: multidict<7.0,>=4.5 in /usr/local/lib/python3.12/dist-packages (from aiohttp>=3.7.4.post0->web3) (6.7.0)\n",
            "Requirement already satisfied: propcache>=0.2.0 in /usr/local/lib/python3.12/dist-packages (from aiohttp>=3.7.4.post0->web3) (0.3.2)\n",
            "Requirement already satisfied: yarl<2.0,>=1.17.0 in /usr/local/lib/python3.12/dist-packages (from aiohttp>=3.7.4.post0->web3) (1.22.0)\n",
            "Requirement already satisfied: parsimonious<0.11.0,>=0.10.0 in /usr/local/lib/python3.12/dist-packages (from eth-abi>=5.0.1->web3) (0.10.0)\n",
            "Requirement already satisfied: bitarray>=2.4.0 in /usr/local/lib/python3.12/dist-packages (from eth-account>=0.13.6->web3) (3.7.2)\n",
            "Requirement already satisfied: eth-keyfile<0.9.0,>=0.7.0 in /usr/local/lib/python3.12/dist-packages (from eth-account>=0.13.6->web3) (0.8.1)\n",
            "Requirement already satisfied: eth-keys>=0.4.0 in /usr/local/lib/python3.12/dist-packages (from eth-account>=0.13.6->web3) (0.7.0)\n",
            "Requirement already satisfied: eth-rlp>=2.1.0 in /usr/local/lib/python3.12/dist-packages (from eth-account>=0.13.6->web3) (2.2.0)\n",
            "Requirement already satisfied: rlp>=1.0.0 in /usr/local/lib/python3.12/dist-packages (from eth-account>=0.13.6->web3) (4.1.0)\n",
            "Requirement already satisfied: ckzg>=2.0.0 in /usr/local/lib/python3.12/dist-packages (from eth-account>=0.13.6->web3) (2.1.5)\n",
            "Requirement already satisfied: pycryptodome<4,>=3.6.6 in /usr/local/lib/python3.12/dist-packages (from eth-hash[pycryptodome]>=0.5.1->web3) (3.23.0)\n",
            "Requirement already satisfied: cytoolz>=0.10.1 in /usr/local/lib/python3.12/dist-packages (from eth-utils>=5.0.0->web3) (1.0.1)\n",
            "Requirement already satisfied: annotated-types>=0.6.0 in /usr/local/lib/python3.12/dist-packages (from pydantic>=2.4.0->web3) (0.7.0)\n",
            "Requirement already satisfied: pydantic-core==2.33.2 in /usr/local/lib/python3.12/dist-packages (from pydantic>=2.4.0->web3) (2.33.2)\n",
            "Requirement already satisfied: typing-inspection>=0.4.0 in /usr/local/lib/python3.12/dist-packages (from pydantic>=2.4.0->web3) (0.4.2)\n",
            "Requirement already satisfied: charset_normalizer<4,>=2 in /usr/local/lib/python3.12/dist-packages (from requests>=2.23.0->web3) (3.4.3)\n",
            "Requirement already satisfied: idna<4,>=2.5 in /usr/local/lib/python3.12/dist-packages (from requests>=2.23.0->web3) (3.10)\n",
            "Requirement already satisfied: urllib3<3,>=1.21.1 in /usr/local/lib/python3.12/dist-packages (from requests>=2.23.0->web3) (2.5.0)\n",
            "Requirement already satisfied: certifi>=2017.4.17 in /usr/local/lib/python3.12/dist-packages (from requests>=2.23.0->web3) (2025.10.5)\n",
            "Requirement already satisfied: toolz>=0.8.0 in /usr/local/lib/python3.12/dist-packages (from cytoolz>=0.10.1->eth-utils>=5.0.0->web3) (0.12.1)\n",
            "Requirement already satisfied: regex>=2022.3.15 in /usr/local/lib/python3.12/dist-packages (from parsimonious<0.11.0,>=0.10.0->eth-abi>=5.0.1->web3) (2024.11.6)\n"
          ]
        }
      ]
    },
    {
      "cell_type": "code",
      "metadata": {
        "id": "638d028e"
      },
      "source": [
        "import hashlib\n",
        "import json\n",
        "import time\n",
        "from datetime import datetime\n",
        "\n",
        "import pandas as pd\n",
        "import matplotlib.pyplot as plt\n",
        "\n",
        "from cryptography.hazmat.primitives import hashes\n",
        "from cryptography.hazmat.primitives.asymmetric import ec\n",
        "from cryptography.hazmat.primitives import serialization\n",
        "from cryptography.exceptions import InvalidSignature\n",
        "\n",
        "# Web3 (requiere conexión a un proveedor como Infura o Alchemy en testnet)\n",
        "from web3 import Web3"
      ],
      "execution_count": 43,
      "outputs": []
    },
    {
      "cell_type": "code",
      "metadata": {
        "colab": {
          "base_uri": "https://localhost:8080/"
        },
        "id": "e20bd2b8",
        "outputId": "58d5cee3-77fe-4807-9ad8-be1bd05bb42d"
      },
      "source": [
        "# Gemelo Digital inicial\n",
        "diploma = {\n",
        "    \"id\": \"DIP-002\",\n",
        "    \"estudiante\": \"Johan Ayala\",\n",
        "    \"programa\": \"Ingeniería de Sistemas\",\n",
        "    \"estado\": \"En revisión\",\n",
        "    \"atributos\": {\n",
        "        \"paz_y_salvo\": True,\n",
        "        \"notas_completas\": True,\n",
        "        \"deudas\": False,\n",
        "        \"creditos_cumplidos\": 999,\n",
        "        \"creditos_totales\": 160\n",
        "    },\n",
        "    \"historial\": []\n",
        "}\n",
        "\n",
        "print(\"Gemelo Digital inicial:\", json.dumps(diploma, indent=2, ensure_ascii=False))"
      ],
      "execution_count": 44,
      "outputs": [
        {
          "output_type": "stream",
          "name": "stdout",
          "text": [
            "Gemelo Digital inicial: {\n",
            "  \"id\": \"DIP-002\",\n",
            "  \"estudiante\": \"Johan Ayala\",\n",
            "  \"programa\": \"Ingeniería de Sistemas\",\n",
            "  \"estado\": \"En revisión\",\n",
            "  \"atributos\": {\n",
            "    \"paz_y_salvo\": true,\n",
            "    \"notas_completas\": true,\n",
            "    \"deudas\": false,\n",
            "    \"creditos_cumplidos\": 999,\n",
            "    \"creditos_totales\": 160\n",
            "  },\n",
            "  \"historial\": []\n",
            "}\n"
          ]
        }
      ]
    },
    {
      "cell_type": "code",
      "metadata": {
        "id": "3d5ca39f"
      },
      "source": [
        "def actualizar_estado(diploma, nuevo_estado):\n",
        "    diploma[\"estado\"] = nuevo_estado\n",
        "    diploma[\"historial\"].append({\n",
        "        \"estado\": nuevo_estado,\n",
        "        \"timestamp\": datetime.utcnow().isoformat() + \"Z\"\n",
        "    })"
      ],
      "execution_count": 45,
      "outputs": []
    },
    {
      "cell_type": "code",
      "metadata": {
        "colab": {
          "base_uri": "https://localhost:8080/"
        },
        "id": "fd65c5ff",
        "outputId": "666aaf18-5961-4ac4-8162-9bece4cf8b40"
      },
      "source": [
        "def validar_diploma(d):\n",
        "    reglas = []\n",
        "    if not d[\"atributos\"][\"paz_y_salvo\"]:\n",
        "        reglas.append(\"🚩 No está paz y salvo\")\n",
        "    if d[\"atributos\"][\"deudas\"]:\n",
        "        reglas.append(\"🚩 Tiene deudas pendientes\")\n",
        "    if not d[\"atributos\"][\"notas_completas\"]:\n",
        "        reglas.append(\"🚩 No completó todas las asignaturas\")\n",
        "    if d[\"atributos\"][\"creditos_cumplidos\"] < d[\"atributos\"][\"creditos_totales\"]:\n",
        "        reglas.append(\"🚩 No ha completado todos los créditos\")\n",
        "    return reglas\n",
        "\n",
        "banderas = validar_diploma(diploma)\n",
        "if banderas:\n",
        "    actualizar_estado(diploma, \"Bloqueado - Banderas rojas\")\n",
        "else:\n",
        "    actualizar_estado(diploma, \"Apto para emisión\")\n",
        "\n",
        "print(\"Validaciones:\", banderas if banderas else \"✅ Todo en orden\")\n",
        "print(\"Estado actual:\", diploma[\"estado\"])"
      ],
      "execution_count": 46,
      "outputs": [
        {
          "output_type": "stream",
          "name": "stdout",
          "text": [
            "Validaciones: ✅ Todo en orden\n",
            "Estado actual: Apto para emisión\n"
          ]
        },
        {
          "output_type": "stream",
          "name": "stderr",
          "text": [
            "/tmp/ipython-input-4042965120.py:5: DeprecationWarning: datetime.datetime.utcnow() is deprecated and scheduled for removal in a future version. Use timezone-aware objects to represent datetimes in UTC: datetime.datetime.now(datetime.UTC).\n",
            "  \"timestamp\": datetime.utcnow().isoformat() + \"Z\"\n"
          ]
        }
      ]
    },
    {
      "cell_type": "code",
      "metadata": {
        "colab": {
          "base_uri": "https://localhost:8080/"
        },
        "id": "07a16446",
        "outputId": "30c564b5-5334-420a-bc68-671f65509f14"
      },
      "source": [
        "# Serialización determinista y hash\n",
        "diploma_json = json.dumps(diploma, sort_keys=True, ensure_ascii=False).encode()\n",
        "hash_diploma = hashlib.sha256(diploma_json).hexdigest()\n",
        "\n",
        "diploma[\"hash\"] = hash_diploma\n",
        "diploma[\"historial\"].append({\n",
        "    \"evento\": \"Hash generado\",\n",
        "    \"hash\": hash_diploma,\n",
        "    \"timestamp\": datetime.utcnow().isoformat() + \"Z\"\n",
        "})\n",
        "\n",
        "print(\"Gemelo Digital actualizado:\", json.dumps(diploma, indent=2, ensure_ascii=False))\n",
        "print(\"Hash anclado (simulado blockchain):\", hash_diploma)"
      ],
      "execution_count": 47,
      "outputs": [
        {
          "output_type": "stream",
          "name": "stdout",
          "text": [
            "Gemelo Digital actualizado: {\n",
            "  \"id\": \"DIP-002\",\n",
            "  \"estudiante\": \"Johan Ayala\",\n",
            "  \"programa\": \"Ingeniería de Sistemas\",\n",
            "  \"estado\": \"Apto para emisión\",\n",
            "  \"atributos\": {\n",
            "    \"paz_y_salvo\": true,\n",
            "    \"notas_completas\": true,\n",
            "    \"deudas\": false,\n",
            "    \"creditos_cumplidos\": 999,\n",
            "    \"creditos_totales\": 160\n",
            "  },\n",
            "  \"historial\": [\n",
            "    {\n",
            "      \"estado\": \"Apto para emisión\",\n",
            "      \"timestamp\": \"2025-10-17T08:06:22.389444Z\"\n",
            "    },\n",
            "    {\n",
            "      \"evento\": \"Hash generado\",\n",
            "      \"hash\": \"4e5eef4ccf4ebde9b3c65ba87c5dfe05dd64447657b7e7c7f974d972e29ae673\",\n",
            "      \"timestamp\": \"2025-10-17T08:06:22.400702Z\"\n",
            "    }\n",
            "  ],\n",
            "  \"hash\": \"4e5eef4ccf4ebde9b3c65ba87c5dfe05dd64447657b7e7c7f974d972e29ae673\"\n",
            "}\n",
            "Hash anclado (simulado blockchain): 4e5eef4ccf4ebde9b3c65ba87c5dfe05dd64447657b7e7c7f974d972e29ae673\n"
          ]
        },
        {
          "output_type": "stream",
          "name": "stderr",
          "text": [
            "/tmp/ipython-input-2169702725.py:9: DeprecationWarning: datetime.datetime.utcnow() is deprecated and scheduled for removal in a future version. Use timezone-aware objects to represent datetimes in UTC: datetime.datetime.now(datetime.UTC).\n",
            "  \"timestamp\": datetime.utcnow().isoformat() + \"Z\"\n"
          ]
        }
      ]
    },
    {
      "cell_type": "code",
      "metadata": {
        "colab": {
          "base_uri": "https://localhost:8080/"
        },
        "id": "1772178f",
        "outputId": "a2c83361-341a-4fde-aca3-fb152b358dd4"
      },
      "source": [
        "# Generación de claves ECDSA (p256)\n",
        "private_key = ec.generate_private_key(ec.SECP256R1())\n",
        "public_key = private_key.public_key()\n",
        "\n",
        "# Firmar hash\n",
        "hash_bytes = bytes.fromhex(hash_diploma)\n",
        "signature = private_key.sign(hash_bytes, ec.ECDSA(hashes.SHA256()))\n",
        "\n",
        "# Verificar firma\n",
        "try:\n",
        "    public_key.verify(signature, hash_bytes, ec.ECDSA(hashes.SHA256()))\n",
        "    print(\"✅ Firma verificada correctamente\")\n",
        "except InvalidSignature:\n",
        "    print(\"❌ Firma inválida\")\n",
        "\n",
        "# Exportar clave pública PEM\n",
        "pem_pub = public_key.public_bytes(\n",
        "    encoding=serialization.Encoding.PEM,\n",
        "    format=serialization.PublicFormat.SubjectPublicKeyInfo\n",
        ")\n",
        "print(pem_pub.decode())"
      ],
      "execution_count": 48,
      "outputs": [
        {
          "output_type": "stream",
          "name": "stdout",
          "text": [
            "✅ Firma verificada correctamente\n",
            "-----BEGIN PUBLIC KEY-----\n",
            "MFkwEwYHKoZIzj0CAQYIKoZIzj0DAQcDQgAEhaL2an8IwbnPVOx9So49eWFFrSLi\n",
            "BZSXdZrvHmG/+zuUEKwdYI+FVSR8nvHs2o57aVDfy6iesgjkQlxAHW0syQ==\n",
            "-----END PUBLIC KEY-----\n",
            "\n"
          ]
        }
      ]
    },
    {
      "cell_type": "code",
      "metadata": {
        "colab": {
          "base_uri": "https://localhost:8080/",
          "height": 408
        },
        "id": "4a03d19f",
        "outputId": "399b4d0a-6497-4ca0-b786-bbc38d1927ec"
      },
      "source": [
        "# Conectar a Sepolia con Infura\n",
        "infura_url = \"https://sepolia.infura.io/v3/1e0a83b4b7ea4916ba64da9e4d1213a9\"\n",
        "w3 = Web3(Web3.HTTPProvider(infura_url))\n",
        "\n",
        "print(\"¿Conectado?\", w3.is_connected())\n",
        "\n",
        "# Cuenta (usa tu clave privada en formato HEX, no en Base64)\n",
        "private_key = \"0x4c0883a69102937d6231471b5dbb6204fe5129617082797a64894ccf37d85a7a\"  # EJEMPLO\n",
        "acct = w3.eth.account.from_key(private_key)\n",
        "print(\"Dirección:\", acct.address)\n",
        "\n",
        "# Hash del diploma (simulado con SHA-256 de un texto)\n",
        "import hashlib\n",
        "hash_diploma = hashlib.sha256(b\"Diploma Johan Ayala 2025\").hexdigest()\n",
        "print(\"Hash del diploma:\", hash_diploma)\n",
        "\n",
        "# Construir la transacción\n",
        "tx = {\n",
        "    'to': acct.address,   # puedes enviarla a ti mismo\n",
        "    'value': 0,           # sin ETH, solo datos\n",
        "    'data': bytes.fromhex(hash_diploma),  # guardar el hash en data\n",
        "    'gas': 50000,\n",
        "    'gasPrice': w3.to_wei('20', 'gwei'),  # Increased gas price\n",
        "    'nonce': w3.eth.get_transaction_count(acct.address)\n",
        "}\n",
        "\n",
        "# Firmar y enviar\n",
        "signed_tx = w3.eth.account.sign_transaction(tx, private_key)\n",
        "tx_hash = w3.eth.send_raw_transaction(signed_tx.raw_transaction)\n",
        "\n",
        "print(\"Transacción enviada. Hash:\", tx_hash.hex())"
      ],
      "execution_count": 49,
      "outputs": [
        {
          "output_type": "stream",
          "name": "stdout",
          "text": [
            "¿Conectado? True\n",
            "Dirección: 0x1C98cfeaEc61518F3f80a1aD9f93E1E42AAE62CB\n",
            "Hash del diploma: 3a764b52a5debaa4ab6114a66f5726a38b9f69e432f3770c53350a73bf48b838\n"
          ]
        },
        {
          "output_type": "error",
          "ename": "Web3RPCError",
          "evalue": "{'code': -32000, 'message': 'insufficient funds for gas * price + value: balance 0, tx cost 1000000000000000, overshot 1000000000000000'}",
          "traceback": [
            "\u001b[0;31m---------------------------------------------------------------------------\u001b[0m",
            "\u001b[0;31mWeb3RPCError\u001b[0m                              Traceback (most recent call last)",
            "\u001b[0;32m/tmp/ipython-input-3863686315.py\u001b[0m in \u001b[0;36m<cell line: 0>\u001b[0;34m()\u001b[0m\n\u001b[1;32m     27\u001b[0m \u001b[0;31m# Firmar y enviar\u001b[0m\u001b[0;34m\u001b[0m\u001b[0;34m\u001b[0m\u001b[0m\n\u001b[1;32m     28\u001b[0m \u001b[0msigned_tx\u001b[0m \u001b[0;34m=\u001b[0m \u001b[0mw3\u001b[0m\u001b[0;34m.\u001b[0m\u001b[0meth\u001b[0m\u001b[0;34m.\u001b[0m\u001b[0maccount\u001b[0m\u001b[0;34m.\u001b[0m\u001b[0msign_transaction\u001b[0m\u001b[0;34m(\u001b[0m\u001b[0mtx\u001b[0m\u001b[0;34m,\u001b[0m \u001b[0mprivate_key\u001b[0m\u001b[0;34m)\u001b[0m\u001b[0;34m\u001b[0m\u001b[0;34m\u001b[0m\u001b[0m\n\u001b[0;32m---> 29\u001b[0;31m \u001b[0mtx_hash\u001b[0m \u001b[0;34m=\u001b[0m \u001b[0mw3\u001b[0m\u001b[0;34m.\u001b[0m\u001b[0meth\u001b[0m\u001b[0;34m.\u001b[0m\u001b[0msend_raw_transaction\u001b[0m\u001b[0;34m(\u001b[0m\u001b[0msigned_tx\u001b[0m\u001b[0;34m.\u001b[0m\u001b[0mraw_transaction\u001b[0m\u001b[0;34m)\u001b[0m\u001b[0;34m\u001b[0m\u001b[0;34m\u001b[0m\u001b[0m\n\u001b[0m\u001b[1;32m     30\u001b[0m \u001b[0;34m\u001b[0m\u001b[0m\n\u001b[1;32m     31\u001b[0m \u001b[0mprint\u001b[0m\u001b[0;34m(\u001b[0m\u001b[0;34m\"Transacción enviada. Hash:\"\u001b[0m\u001b[0;34m,\u001b[0m \u001b[0mtx_hash\u001b[0m\u001b[0;34m.\u001b[0m\u001b[0mhex\u001b[0m\u001b[0;34m(\u001b[0m\u001b[0;34m)\u001b[0m\u001b[0;34m)\u001b[0m\u001b[0;34m\u001b[0m\u001b[0;34m\u001b[0m\u001b[0m\n",
            "\u001b[0;32m/usr/local/lib/python3.12/dist-packages/web3/eth/eth.py\u001b[0m in \u001b[0;36msend_raw_transaction\u001b[0;34m(self, transaction)\u001b[0m\n\u001b[1;32m    395\u001b[0m \u001b[0;34m\u001b[0m\u001b[0m\n\u001b[1;32m    396\u001b[0m     \u001b[0;32mdef\u001b[0m \u001b[0msend_raw_transaction\u001b[0m\u001b[0;34m(\u001b[0m\u001b[0mself\u001b[0m\u001b[0;34m,\u001b[0m \u001b[0mtransaction\u001b[0m\u001b[0;34m:\u001b[0m \u001b[0mUnion\u001b[0m\u001b[0;34m[\u001b[0m\u001b[0mHexStr\u001b[0m\u001b[0;34m,\u001b[0m \u001b[0mbytes\u001b[0m\u001b[0;34m]\u001b[0m\u001b[0;34m)\u001b[0m \u001b[0;34m->\u001b[0m \u001b[0mHexBytes\u001b[0m\u001b[0;34m:\u001b[0m\u001b[0;34m\u001b[0m\u001b[0;34m\u001b[0m\u001b[0m\n\u001b[0;32m--> 397\u001b[0;31m         \u001b[0;32mreturn\u001b[0m \u001b[0mself\u001b[0m\u001b[0;34m.\u001b[0m\u001b[0m_send_raw_transaction\u001b[0m\u001b[0;34m(\u001b[0m\u001b[0mtransaction\u001b[0m\u001b[0;34m)\u001b[0m\u001b[0;34m\u001b[0m\u001b[0;34m\u001b[0m\u001b[0m\n\u001b[0m\u001b[1;32m    398\u001b[0m \u001b[0;34m\u001b[0m\u001b[0m\n\u001b[1;32m    399\u001b[0m     \u001b[0;31m# eth_getBlockByHash\u001b[0m\u001b[0;34m\u001b[0m\u001b[0;34m\u001b[0m\u001b[0m\n",
            "\u001b[0;32m/usr/local/lib/python3.12/dist-packages/web3/module.py\u001b[0m in \u001b[0;36mcaller\u001b[0;34m(*args, **kwargs)\u001b[0m\n\u001b[1;32m    110\u001b[0m             \u001b[0mnull_result_formatters\u001b[0m\u001b[0;34m,\u001b[0m\u001b[0;34m\u001b[0m\u001b[0;34m\u001b[0m\u001b[0m\n\u001b[1;32m    111\u001b[0m         ) = response_formatters\n\u001b[0;32m--> 112\u001b[0;31m         result = w3.manager.request_blocking(\n\u001b[0m\u001b[1;32m    113\u001b[0m             \u001b[0mmethod_str\u001b[0m\u001b[0;34m,\u001b[0m \u001b[0mparams\u001b[0m\u001b[0;34m,\u001b[0m \u001b[0merror_formatters\u001b[0m\u001b[0;34m,\u001b[0m \u001b[0mnull_result_formatters\u001b[0m\u001b[0;34m\u001b[0m\u001b[0;34m\u001b[0m\u001b[0m\n\u001b[1;32m    114\u001b[0m         )\n",
            "\u001b[0;32m/usr/local/lib/python3.12/dist-packages/web3/manager.py\u001b[0m in \u001b[0;36mrequest_blocking\u001b[0;34m(self, method, params, error_formatters, null_result_formatters)\u001b[0m\n\u001b[1;32m    231\u001b[0m         \"\"\"\n\u001b[1;32m    232\u001b[0m         \u001b[0mresponse\u001b[0m \u001b[0;34m=\u001b[0m \u001b[0mself\u001b[0m\u001b[0;34m.\u001b[0m\u001b[0m_make_request\u001b[0m\u001b[0;34m(\u001b[0m\u001b[0mmethod\u001b[0m\u001b[0;34m,\u001b[0m \u001b[0mparams\u001b[0m\u001b[0;34m)\u001b[0m\u001b[0;34m\u001b[0m\u001b[0;34m\u001b[0m\u001b[0m\n\u001b[0;32m--> 233\u001b[0;31m         return self.formatted_response(\n\u001b[0m\u001b[1;32m    234\u001b[0m             \u001b[0mresponse\u001b[0m\u001b[0;34m,\u001b[0m \u001b[0mparams\u001b[0m\u001b[0;34m,\u001b[0m \u001b[0merror_formatters\u001b[0m\u001b[0;34m,\u001b[0m \u001b[0mnull_result_formatters\u001b[0m\u001b[0;34m\u001b[0m\u001b[0;34m\u001b[0m\u001b[0m\n\u001b[1;32m    235\u001b[0m         )\n",
            "\u001b[0;32m/usr/local/lib/python3.12/dist-packages/web3/manager.py\u001b[0m in \u001b[0;36mformatted_response\u001b[0;34m(self, response, params, error_formatters, null_result_formatters)\u001b[0m\n\u001b[1;32m    197\u001b[0m         )\n\u001b[1;32m    198\u001b[0m \u001b[0;34m\u001b[0m\u001b[0m\n\u001b[0;32m--> 199\u001b[0;31m         validate_rpc_response_and_raise_if_error(\n\u001b[0m\u001b[1;32m    200\u001b[0m             \u001b[0mresponse\u001b[0m\u001b[0;34m,\u001b[0m\u001b[0;34m\u001b[0m\u001b[0;34m\u001b[0m\u001b[0m\n\u001b[1;32m    201\u001b[0m             \u001b[0merror_formatters\u001b[0m\u001b[0;34m,\u001b[0m\u001b[0;34m\u001b[0m\u001b[0;34m\u001b[0m\u001b[0m\n",
            "\u001b[0;32m/usr/local/lib/python3.12/dist-packages/web3/_utils/validation.py\u001b[0m in \u001b[0;36mvalidate_rpc_response_and_raise_if_error\u001b[0;34m(response, error_formatters, is_subscription_response, logger, params)\u001b[0m\n\u001b[1;32m    399\u001b[0m             \u001b[0mlogger\u001b[0m\u001b[0;34m.\u001b[0m\u001b[0mdebug\u001b[0m\u001b[0;34m(\u001b[0m\u001b[0;34m\"RPC error response: %s\"\u001b[0m\u001b[0;34m,\u001b[0m \u001b[0mresponse\u001b[0m\u001b[0;34m)\u001b[0m\u001b[0;34m\u001b[0m\u001b[0;34m\u001b[0m\u001b[0m\n\u001b[1;32m    400\u001b[0m \u001b[0;34m\u001b[0m\u001b[0m\n\u001b[0;32m--> 401\u001b[0;31m         \u001b[0;32mraise\u001b[0m \u001b[0mweb3_rpc_error\u001b[0m\u001b[0;34m\u001b[0m\u001b[0;34m\u001b[0m\u001b[0m\n\u001b[0m\u001b[1;32m    402\u001b[0m \u001b[0;34m\u001b[0m\u001b[0m\n\u001b[1;32m    403\u001b[0m     \u001b[0;32melif\u001b[0m \u001b[0;34m\"result\"\u001b[0m \u001b[0;32mnot\u001b[0m \u001b[0;32min\u001b[0m \u001b[0mresponse\u001b[0m \u001b[0;32mand\u001b[0m \u001b[0;32mnot\u001b[0m \u001b[0mis_subscription_response\u001b[0m\u001b[0;34m:\u001b[0m\u001b[0;34m\u001b[0m\u001b[0;34m\u001b[0m\u001b[0m\n",
            "\u001b[0;31mWeb3RPCError\u001b[0m: {'code': -32000, 'message': 'insufficient funds for gas * price + value: balance 0, tx cost 1000000000000000, overshot 1000000000000000'}"
          ]
        }
      ]
    },
    {
      "cell_type": "code",
      "metadata": {
        "colab": {
          "base_uri": "https://localhost:8080/"
        },
        "id": "60017b8a",
        "outputId": "eac72766-6626-4700-d64a-8eb07e73f465"
      },
      "source": [
        "df = pd.DataFrame([{\n",
        "    \"id\": diploma[\"id\"],\n",
        "    \"estudiante\": diploma[\"estudiante\"],\n",
        "    \"programa\": diploma[\"programa\"],\n",
        "    \"estado\": diploma[\"estado\"],\n",
        "    \"hash\": diploma[\"hash\"],\n",
        "    \"historial\": json.dumps(diploma[\"historial\"], ensure_ascii=False)\n",
        "}])\n",
        "df.to_csv(\"diplomas.csv\", index=False, encoding=\"utf-8\")\n",
        "print(\"Diploma guardado en diplomas.csv\")\n",
        "\n",
        "df_loaded = pd.read_csv(\"diplomas.csv\", encoding=\"utf-8\")\n",
        "print(\"Diplomas cargados:\")\n",
        "print(df_loaded)"
      ],
      "execution_count": 50,
      "outputs": [
        {
          "output_type": "stream",
          "name": "stdout",
          "text": [
            "Diploma guardado en diplomas.csv\n",
            "Diplomas cargados:\n",
            "        id   estudiante                programa             estado  \\\n",
            "0  DIP-002  Johan Ayala  Ingeniería de Sistemas  Apto para emisión   \n",
            "\n",
            "                                                hash  \\\n",
            "0  4e5eef4ccf4ebde9b3c65ba87c5dfe05dd64447657b7e7...   \n",
            "\n",
            "                                           historial  \n",
            "0  [{\"estado\": \"Apto para emisión\", \"timestamp\": ...  \n"
          ]
        }
      ]
    },
    {
      "cell_type": "code",
      "metadata": {
        "id": "b9097d1c",
        "colab": {
          "base_uri": "https://localhost:8080/"
        },
        "outputId": "956d53a1-8d98-47b8-908f-4fbeeb94a0c8"
      },
      "source": [
        "def calcular_hash(diploma):\n",
        "    # Crear copia sin el campo \"hash\"\n",
        "    diploma_copy = diploma.copy()\n",
        "    diploma_copy.pop(\"hash\", None)\n",
        "    diploma_json = json.dumps(diploma_copy, sort_keys=True, ensure_ascii=False).encode()\n",
        "    return hashlib.sha256(diploma_json).hexdigest()\n",
        "\n",
        "# Guardar hash inicial\n",
        "diploma[\"hash\"] = calcular_hash(diploma)\n",
        "\n",
        "# Verificación posterior\n",
        "hash_recalc = calcular_hash(diploma)\n",
        "\n",
        "print(\"Hash guardado:\", diploma[\"hash\"])\n",
        "print(\"Hash recalculado:\", hash_recalc)\n",
        "print(\"✅ Integridad OK\" if diploma[\"hash\"] == hash_recalc else \"❌ Integridad comprometida\")\n"
      ],
      "execution_count": 51,
      "outputs": [
        {
          "output_type": "stream",
          "name": "stdout",
          "text": [
            "Hash guardado: af200f6ff36916d647fe65387c193c94bf86ba9f3005c8c15348e3b7ce1ed51e\n",
            "Hash recalculado: af200f6ff36916d647fe65387c193c94bf86ba9f3005c8c15348e3b7ce1ed51e\n",
            "✅ Integridad OK\n"
          ]
        }
      ]
    },
    {
      "cell_type": "code",
      "metadata": {
        "id": "19e72892"
      },
      "source": [
        "historial_df = pd.DataFrame(diploma[\"historial\"])\n",
        "historial_df[\"timestamp\"] = pd.to_datetime(historial_df[\"timestamp\"])\n",
        "\n",
        "plt.figure(figsize=(8,4))\n",
        "plt.plot(historial_df[\"timestamp\"], historial_df.index, marker=\"o\")\n",
        "for i, row in historial_df.iterrows():\n",
        "    plt.text(row[\"timestamp\"], i, row[\"estado\"], fontsize=9, va=\"bottom\")\n",
        "plt.title(\"Ciclo de vida del diploma\")\n",
        "plt.xlabel(\"Tiempo\")\n",
        "plt.ylabel(\"Secuencia de estados\")\n",
        "plt.grid(True)\n",
        "plt.show()"
      ],
      "execution_count": null,
      "outputs": []
    }
  ]
}
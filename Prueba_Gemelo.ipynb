{
  "nbformat": 4,
  "nbformat_minor": 0,
  "metadata": {
    "colab": {
      "provenance": [],
      "include_colab_link": true
    },
    "kernelspec": {
      "name": "python3",
      "display_name": "Python 3"
    },
    "language_info": {
      "name": "python"
    }
  },
  "cells": [
    {
      "cell_type": "markdown",
      "metadata": {
        "id": "view-in-github",
        "colab_type": "text"
      },
      "source": [
        "<a href=\"https://colab.research.google.com/github/scj02/GemeloDigital/blob/Rama_Cris/Prueba_Gemelo.ipynb\" target=\"_parent\"><img src=\"https://colab.research.google.com/assets/colab-badge.svg\" alt=\"Open In Colab\"/></a>"
      ]
    },
    {
      "cell_type": "code",
      "source": [
        "!pip install web3"
      ],
      "metadata": {
        "colab": {
          "base_uri": "https://localhost:8080/"
        },
        "id": "qjEjf_AM508m",
        "outputId": "26ab89f6-c7b2-4078-cf82-2672bea6882c"
      },
      "execution_count": 28,
      "outputs": [
        {
          "output_type": "stream",
          "name": "stdout",
          "text": [
            "Requirement already satisfied: web3 in /usr/local/lib/python3.12/dist-packages (7.14.0)\n",
            "Requirement already satisfied: eth-abi>=5.0.1 in /usr/local/lib/python3.12/dist-packages (from web3) (5.2.0)\n",
            "Requirement already satisfied: eth-account>=0.13.6 in /usr/local/lib/python3.12/dist-packages (from web3) (0.13.7)\n",
            "Requirement already satisfied: eth-hash>=0.5.1 in /usr/local/lib/python3.12/dist-packages (from eth-hash[pycryptodome]>=0.5.1->web3) (0.7.1)\n",
            "Requirement already satisfied: eth-typing>=5.0.0 in /usr/local/lib/python3.12/dist-packages (from web3) (5.2.1)\n",
            "Requirement already satisfied: eth-utils>=5.0.0 in /usr/local/lib/python3.12/dist-packages (from web3) (5.3.1)\n",
            "Requirement already satisfied: hexbytes>=1.2.0 in /usr/local/lib/python3.12/dist-packages (from web3) (1.3.1)\n",
            "Requirement already satisfied: aiohttp>=3.7.4.post0 in /usr/local/lib/python3.12/dist-packages (from web3) (3.13.1)\n",
            "Requirement already satisfied: pydantic>=2.4.0 in /usr/local/lib/python3.12/dist-packages (from web3) (2.11.10)\n",
            "Requirement already satisfied: requests>=2.23.0 in /usr/local/lib/python3.12/dist-packages (from web3) (2.32.4)\n",
            "Requirement already satisfied: typing-extensions>=4.0.1 in /usr/local/lib/python3.12/dist-packages (from web3) (4.15.0)\n",
            "Requirement already satisfied: types-requests>=2.0.0 in /usr/local/lib/python3.12/dist-packages (from web3) (2.32.4.20250913)\n",
            "Requirement already satisfied: websockets<16.0.0,>=10.0.0 in /usr/local/lib/python3.12/dist-packages (from web3) (15.0.1)\n",
            "Requirement already satisfied: pyunormalize>=15.0.0 in /usr/local/lib/python3.12/dist-packages (from web3) (17.0.0)\n",
            "Requirement already satisfied: aiohappyeyeballs>=2.5.0 in /usr/local/lib/python3.12/dist-packages (from aiohttp>=3.7.4.post0->web3) (2.6.1)\n",
            "Requirement already satisfied: aiosignal>=1.4.0 in /usr/local/lib/python3.12/dist-packages (from aiohttp>=3.7.4.post0->web3) (1.4.0)\n",
            "Requirement already satisfied: attrs>=17.3.0 in /usr/local/lib/python3.12/dist-packages (from aiohttp>=3.7.4.post0->web3) (25.4.0)\n",
            "Requirement already satisfied: frozenlist>=1.1.1 in /usr/local/lib/python3.12/dist-packages (from aiohttp>=3.7.4.post0->web3) (1.8.0)\n",
            "Requirement already satisfied: multidict<7.0,>=4.5 in /usr/local/lib/python3.12/dist-packages (from aiohttp>=3.7.4.post0->web3) (6.7.0)\n",
            "Requirement already satisfied: propcache>=0.2.0 in /usr/local/lib/python3.12/dist-packages (from aiohttp>=3.7.4.post0->web3) (0.4.1)\n",
            "Requirement already satisfied: yarl<2.0,>=1.17.0 in /usr/local/lib/python3.12/dist-packages (from aiohttp>=3.7.4.post0->web3) (1.22.0)\n",
            "Requirement already satisfied: parsimonious<0.11.0,>=0.10.0 in /usr/local/lib/python3.12/dist-packages (from eth-abi>=5.0.1->web3) (0.10.0)\n",
            "Requirement already satisfied: bitarray>=2.4.0 in /usr/local/lib/python3.12/dist-packages (from eth-account>=0.13.6->web3) (3.7.2)\n",
            "Requirement already satisfied: eth-keyfile<0.9.0,>=0.7.0 in /usr/local/lib/python3.12/dist-packages (from eth-account>=0.13.6->web3) (0.8.1)\n",
            "Requirement already satisfied: eth-keys>=0.4.0 in /usr/local/lib/python3.12/dist-packages (from eth-account>=0.13.6->web3) (0.7.0)\n",
            "Requirement already satisfied: eth-rlp>=2.1.0 in /usr/local/lib/python3.12/dist-packages (from eth-account>=0.13.6->web3) (2.2.0)\n",
            "Requirement already satisfied: rlp>=1.0.0 in /usr/local/lib/python3.12/dist-packages (from eth-account>=0.13.6->web3) (4.1.0)\n",
            "Requirement already satisfied: ckzg>=2.0.0 in /usr/local/lib/python3.12/dist-packages (from eth-account>=0.13.6->web3) (2.1.5)\n",
            "Requirement already satisfied: pycryptodome<4,>=3.6.6 in /usr/local/lib/python3.12/dist-packages (from eth-hash[pycryptodome]>=0.5.1->web3) (3.23.0)\n",
            "Requirement already satisfied: cytoolz>=0.10.1 in /usr/local/lib/python3.12/dist-packages (from eth-utils>=5.0.0->web3) (1.1.0)\n",
            "Requirement already satisfied: annotated-types>=0.6.0 in /usr/local/lib/python3.12/dist-packages (from pydantic>=2.4.0->web3) (0.7.0)\n",
            "Requirement already satisfied: pydantic-core==2.33.2 in /usr/local/lib/python3.12/dist-packages (from pydantic>=2.4.0->web3) (2.33.2)\n",
            "Requirement already satisfied: typing-inspection>=0.4.0 in /usr/local/lib/python3.12/dist-packages (from pydantic>=2.4.0->web3) (0.4.2)\n",
            "Requirement already satisfied: charset_normalizer<4,>=2 in /usr/local/lib/python3.12/dist-packages (from requests>=2.23.0->web3) (3.4.4)\n",
            "Requirement already satisfied: idna<4,>=2.5 in /usr/local/lib/python3.12/dist-packages (from requests>=2.23.0->web3) (3.11)\n",
            "Requirement already satisfied: urllib3<3,>=1.21.1 in /usr/local/lib/python3.12/dist-packages (from requests>=2.23.0->web3) (2.5.0)\n",
            "Requirement already satisfied: certifi>=2017.4.17 in /usr/local/lib/python3.12/dist-packages (from requests>=2.23.0->web3) (2025.10.5)\n",
            "Requirement already satisfied: toolz>=0.8.0 in /usr/local/lib/python3.12/dist-packages (from cytoolz>=0.10.1->eth-utils>=5.0.0->web3) (0.12.1)\n",
            "Requirement already satisfied: regex>=2022.3.15 in /usr/local/lib/python3.12/dist-packages (from parsimonious<0.11.0,>=0.10.0->eth-abi>=5.0.1->web3) (2024.11.6)\n"
          ]
        }
      ]
    },
    {
      "cell_type": "code",
      "metadata": {
        "id": "638d028e"
      },
      "source": [
        "import hashlib\n",
        "import json\n",
        "import time\n",
        "from datetime import datetime\n",
        "\n",
        "import pandas as pd\n",
        "import matplotlib.pyplot as plt\n",
        "\n",
        "from cryptography.hazmat.primitives import hashes\n",
        "from cryptography.hazmat.primitives.asymmetric import ec\n",
        "from cryptography.hazmat.primitives import serialization\n",
        "from cryptography.exceptions import InvalidSignature\n",
        "from matplotlib.patches import FancyBboxPatch\n",
        "\n",
        "# Web3 (requiere conexión a un proveedor como Infura o Alchemy en testnet)\n",
        "from web3 import Web3"
      ],
      "execution_count": 29,
      "outputs": []
    },
    {
      "cell_type": "code",
      "metadata": {
        "colab": {
          "base_uri": "https://localhost:8080/"
        },
        "id": "e20bd2b8",
        "outputId": "86d050d0-f65a-494b-f4b6-f1bc701864c2"
      },
      "source": [
        "# Gemelo Digital inicial\n",
        "diploma = {\n",
        "    \"id\": \"DIP-003\",\n",
        "    \"estudiante\": \"Santiago Cruz\",\n",
        "    \"programa\": \"Medicina\",\n",
        "    \"estado\": \"En revisión\",\n",
        "    \"atributos\": {\n",
        "        \"paz_y_salvo\": True,\n",
        "        \"notas_completas\": True,\n",
        "        \"deudas\": False,\n",
        "        \"creditos_cumplidos\": 160,\n",
        "        \"creditos_totales\": 160,\n",
        "        \"certificado_idioma\": True,\n",
        "        \"saber_pro\": True,\n",
        "        \"pago_matricula_fallido\": False,  # Tesorería\n",
        "        \"otros_servicios_pendientes\": False,  # Tesorería\n",
        "        \"libros_no_devueltos\": False,  # Biblioteca\n",
        "        \"danos_equipo_biblioteca\": False,  # Biblioteca\n",
        "        \"danos_equipo_bienestar\": False,   # Bienestar Estudiantil\n",
        "        \"multas_bienestar\": False         # Bienestar Estudiantil\n",
        "    },\n",
        "    \"historial\": []\n",
        "}\n",
        "\n",
        "print(\"Gemelo Digital inicial:\", json.dumps(diploma, indent=2, ensure_ascii=False))"
      ],
      "execution_count": 30,
      "outputs": [
        {
          "output_type": "stream",
          "name": "stdout",
          "text": [
            "Gemelo Digital inicial: {\n",
            "  \"id\": \"DIP-003\",\n",
            "  \"estudiante\": \"Santiago Cruz\",\n",
            "  \"programa\": \"Medicina\",\n",
            "  \"estado\": \"En revisión\",\n",
            "  \"atributos\": {\n",
            "    \"paz_y_salvo\": true,\n",
            "    \"notas_completas\": true,\n",
            "    \"deudas\": false,\n",
            "    \"creditos_cumplidos\": 160,\n",
            "    \"creditos_totales\": 160,\n",
            "    \"certificado_idioma\": true,\n",
            "    \"saber_pro\": true,\n",
            "    \"pago_matricula_fallido\": false,\n",
            "    \"otros_servicios_pendientes\": false,\n",
            "    \"libros_no_devueltos\": false,\n",
            "    \"danos_equipo_biblioteca\": false,\n",
            "    \"danos_equipo_bienestar\": false,\n",
            "    \"multas_bienestar\": false\n",
            "  },\n",
            "  \"historial\": []\n",
            "}\n"
          ]
        }
      ]
    },
    {
      "cell_type": "code",
      "metadata": {
        "id": "3d5ca39f"
      },
      "source": [
        "def actualizar_estado(diploma, nuevo_estado):\n",
        "    diploma[\"estado\"] = nuevo_estado\n",
        "    diploma[\"historial\"].append({\n",
        "        \"estado\": nuevo_estado,\n",
        "        \"timestamp\": datetime.utcnow().isoformat() + \"Z\"\n",
        "    })"
      ],
      "execution_count": 31,
      "outputs": []
    },
    {
      "cell_type": "code",
      "source": [
        "# Información de Tesorería: Validación de deudas\n",
        "def validar_deudas_tesoreria(diploma):\n",
        "    deudas = []\n",
        "\n",
        "    # Validar si el pago de matrícula no fue procesado correctamente\n",
        "    if diploma[\"atributos\"].get(\"pago_matricula_fallido\", False):\n",
        "        deudas.append(\"🚩 Pago de matrícula fallido\")\n",
        "\n",
        "    # Validar si hay algún otro tipo de deuda con la universidad\n",
        "    if diploma[\"atributos\"].get(\"otros_servicios_pendientes\", False):\n",
        "        deudas.append(\"🚩 Deuda por otros servicios no pagados\")\n",
        "\n",
        "    return deudas\n"
      ],
      "metadata": {
        "id": "Hm5N4FEZ28CN"
      },
      "execution_count": 32,
      "outputs": []
    },
    {
      "cell_type": "code",
      "source": [
        "# Información de Biblioteca: Validación de multas o daños\n",
        "def validar_deudas_biblioteca(diploma):\n",
        "    deudas = []\n",
        "\n",
        "    # Validar si hay una multa por libros no devueltos\n",
        "    if diploma[\"atributos\"].get(\"libros_no_devueltos\", False):\n",
        "        deudas.append(\"🚩 Multa por libros no devueltos\")\n",
        "\n",
        "    # Validar si se ha dañado equipo de la biblioteca (por ejemplo, PCs)\n",
        "    if diploma[\"atributos\"].get(\"danos_equipo_biblioteca\", False):\n",
        "        deudas.append(\"🚩 Daños a equipo de la biblioteca (ej: PC, impresoras)\")\n",
        "\n",
        "    return deudas\n"
      ],
      "metadata": {
        "id": "G1hk3h8M272t"
      },
      "execution_count": 33,
      "outputs": []
    },
    {
      "cell_type": "code",
      "source": [
        "# Información de Bienestar Estudiantil: Validación de daños o multas\n",
        "def validar_deudas_bienestar(diploma):\n",
        "    deudas = []\n",
        "\n",
        "    # Validar si ha dañado algún equipo de bienestar estudiantil\n",
        "    if diploma[\"atributos\"].get(\"danos_equipo_bienestar\", False):\n",
        "        deudas.append(\"🚩 Daños a equipos de bienestar estudiantil (ej: controles, DVD)\")\n",
        "\n",
        "    # Validar si hay multas por no cumplir con normativas de bienestar\n",
        "    if diploma[\"atributos\"].get(\"multas_bienestar\", False):\n",
        "        deudas.append(\"🚩 Multas por no cumplir con normativas de bienestar estudiantil\")\n",
        "\n",
        "    return deudas\n"
      ],
      "metadata": {
        "id": "T5c1JDRN27jO"
      },
      "execution_count": 34,
      "outputs": []
    },
    {
      "cell_type": "code",
      "metadata": {
        "colab": {
          "base_uri": "https://localhost:8080/"
        },
        "id": "fd65c5ff",
        "outputId": "b6ad7570-8a7c-44af-8190-74c9f65cf261"
      },
      "source": [
        "def validar_diploma(d):\n",
        "    reglas = []\n",
        "\n",
        "    # --- Reglas de validación básicas ---\n",
        "    if not d[\"atributos\"][\"paz_y_salvo\"]:\n",
        "        reglas.append(\"🚩 No está paz y salvo (pendiente de biblioteca o pagos)\")\n",
        "\n",
        "    if d[\"atributos\"][\"deudas\"]:\n",
        "        reglas.append(\"🚩 Tiene deudas pendientes con la universidad\")\n",
        "\n",
        "    if not d[\"atributos\"][\"notas_completas\"]:\n",
        "        reglas.append(\"🚩 No completó todas las asignaturas del plan de estudios\")\n",
        "\n",
        "    if d[\"atributos\"][\"creditos_cumplidos\"] < d[\"atributos\"][\"creditos_totales\"]:\n",
        "        reglas.append(\"🚩 No ha completado todos los créditos requeridos\")\n",
        "\n",
        "    if d[\"atributos\"][\"creditos_cumplidos\"] > d[\"atributos\"][\"creditos_totales\"]:\n",
        "        reglas.append(\"🚩 Créditos exceden lo requerido (posible error o fraude)\")\n",
        "\n",
        "    if d[\"atributos\"][\"creditos_totales\"] != 160:\n",
        "        reglas.append(\"🚩 El total de créditos no coincide con el plan oficial (160)\")\n",
        "\n",
        "    # --- Validaciones de Tesorería ---\n",
        "    deudas_tesoreria = validar_deudas_tesoreria(diploma)\n",
        "    if deudas_tesoreria:\n",
        "        reglas.extend(deudas_tesoreria)\n",
        "\n",
        "    # --- Validaciones de Biblioteca ---\n",
        "    deudas_biblioteca = validar_deudas_biblioteca(diploma)\n",
        "    if deudas_biblioteca:\n",
        "        reglas.extend(deudas_biblioteca)\n",
        "\n",
        "    # --- Validaciones de Bienestar Estudiantil ---\n",
        "    deudas_bienestar = validar_deudas_bienestar(diploma)\n",
        "    if deudas_bienestar:\n",
        "        reglas.extend(deudas_bienestar)\n",
        "\n",
        "    if not d[\"atributos\"].get(\"certificado_idioma\", False):\n",
        "        reglas.append(\"🚩 No cumple requisito de certificado de idioma\")\n",
        "\n",
        "    if not d[\"atributos\"].get(\"saber_pro\", False):\n",
        "        reglas.append(\"🚩 No aprobó el examen Saber Pro\")\n",
        "\n",
        "    return reglas\n",
        "\n",
        "\n",
        "# --- Ejecución de validación ---\n",
        "banderas = validar_diploma(diploma)\n",
        "\n",
        "if banderas:\n",
        "    actualizar_estado(diploma, \"Bloqueado - Banderas rojas\")\n",
        "    print(\"❌ Integridad comprometida. Motivos detectados:\")\n",
        "    for b in banderas:\n",
        "        print(\"   \", b)\n",
        "else:\n",
        "    actualizar_estado(diploma, \"Apto para emisión\")\n",
        "    print(\"✅ Diploma válido e íntegro\")"
      ],
      "execution_count": 35,
      "outputs": [
        {
          "output_type": "stream",
          "name": "stdout",
          "text": [
            "✅ Diploma válido e íntegro\n"
          ]
        },
        {
          "output_type": "stream",
          "name": "stderr",
          "text": [
            "/tmp/ipython-input-4042965120.py:5: DeprecationWarning: datetime.datetime.utcnow() is deprecated and scheduled for removal in a future version. Use timezone-aware objects to represent datetimes in UTC: datetime.datetime.now(datetime.UTC).\n",
            "  \"timestamp\": datetime.utcnow().isoformat() + \"Z\"\n"
          ]
        }
      ]
    },
    {
      "cell_type": "code",
      "metadata": {
        "colab": {
          "base_uri": "https://localhost:8080/"
        },
        "id": "07a16446",
        "outputId": "372cd86d-22b8-412e-e663-df87ae045f1d"
      },
      "source": [
        "# Serialización determinista y hash\n",
        "diploma_json = json.dumps(diploma, sort_keys=True, ensure_ascii=False).encode()\n",
        "hash_diploma = hashlib.sha256(diploma_json).hexdigest()\n",
        "\n",
        "diploma[\"hash\"] = hash_diploma\n",
        "diploma[\"historial\"].append({\n",
        "    \"evento\": \"Hash generado\",\n",
        "    \"hash\": hash_diploma,\n",
        "    \"timestamp\": datetime.utcnow().isoformat() + \"Z\"\n",
        "})\n",
        "\n",
        "print(\"Gemelo Digital actualizado:\", json.dumps(diploma, indent=2, ensure_ascii=False))\n",
        "print(\"Hash anclado (simulado blockchain):\", hash_diploma)"
      ],
      "execution_count": 36,
      "outputs": [
        {
          "output_type": "stream",
          "name": "stdout",
          "text": [
            "Gemelo Digital actualizado: {\n",
            "  \"id\": \"DIP-003\",\n",
            "  \"estudiante\": \"Santiago Cruz\",\n",
            "  \"programa\": \"Medicina\",\n",
            "  \"estado\": \"Apto para emisión\",\n",
            "  \"atributos\": {\n",
            "    \"paz_y_salvo\": true,\n",
            "    \"notas_completas\": true,\n",
            "    \"deudas\": false,\n",
            "    \"creditos_cumplidos\": 160,\n",
            "    \"creditos_totales\": 160,\n",
            "    \"certificado_idioma\": true,\n",
            "    \"saber_pro\": true,\n",
            "    \"pago_matricula_fallido\": false,\n",
            "    \"otros_servicios_pendientes\": false,\n",
            "    \"libros_no_devueltos\": false,\n",
            "    \"danos_equipo_biblioteca\": false,\n",
            "    \"danos_equipo_bienestar\": false,\n",
            "    \"multas_bienestar\": false\n",
            "  },\n",
            "  \"historial\": [\n",
            "    {\n",
            "      \"estado\": \"Apto para emisión\",\n",
            "      \"timestamp\": \"2025-10-24T20:42:25.417585Z\"\n",
            "    },\n",
            "    {\n",
            "      \"evento\": \"Hash generado\",\n",
            "      \"hash\": \"847947f4420cb1a38b908e0a3d59f1dacb6783494f54e669f967a25a85384f93\",\n",
            "      \"timestamp\": \"2025-10-24T20:42:25.426512Z\"\n",
            "    }\n",
            "  ],\n",
            "  \"hash\": \"847947f4420cb1a38b908e0a3d59f1dacb6783494f54e669f967a25a85384f93\"\n",
            "}\n",
            "Hash anclado (simulado blockchain): 847947f4420cb1a38b908e0a3d59f1dacb6783494f54e669f967a25a85384f93\n"
          ]
        },
        {
          "output_type": "stream",
          "name": "stderr",
          "text": [
            "/tmp/ipython-input-2169702725.py:9: DeprecationWarning: datetime.datetime.utcnow() is deprecated and scheduled for removal in a future version. Use timezone-aware objects to represent datetimes in UTC: datetime.datetime.now(datetime.UTC).\n",
            "  \"timestamp\": datetime.utcnow().isoformat() + \"Z\"\n"
          ]
        }
      ]
    },
    {
      "cell_type": "code",
      "metadata": {
        "colab": {
          "base_uri": "https://localhost:8080/"
        },
        "id": "1772178f",
        "outputId": "31c27db7-d73a-4d77-d68d-185772696847"
      },
      "source": [
        "# Generación de claves ECDSA (p256)\n",
        "private_key = ec.generate_private_key(ec.SECP256R1())\n",
        "public_key = private_key.public_key()\n",
        "\n",
        "# Firmar hash\n",
        "hash_bytes = bytes.fromhex(hash_diploma)\n",
        "signature = private_key.sign(hash_bytes, ec.ECDSA(hashes.SHA256()))\n",
        "\n",
        "# Verificar firma\n",
        "try:\n",
        "    public_key.verify(signature, hash_bytes, ec.ECDSA(hashes.SHA256()))\n",
        "    print(\"✅ Firma verificada correctamente\")\n",
        "except InvalidSignature:\n",
        "    print(\"❌ Firma inválida\")\n",
        "\n",
        "# Exportar clave pública PEM\n",
        "pem_pub = public_key.public_bytes(\n",
        "    encoding=serialization.Encoding.PEM,\n",
        "    format=serialization.PublicFormat.SubjectPublicKeyInfo\n",
        ")\n",
        "print(pem_pub.decode())"
      ],
      "execution_count": 37,
      "outputs": [
        {
          "output_type": "stream",
          "name": "stdout",
          "text": [
            "✅ Firma verificada correctamente\n",
            "-----BEGIN PUBLIC KEY-----\n",
            "MFkwEwYHKoZIzj0CAQYIKoZIzj0DAQcDQgAElyZmMcOGINw1jGm1ZIYcHCP68sl0\n",
            "7kbi7TL2CR/Q07VsGTfLEfXs9zp/fyph8iAst2JFncC7yvWplldOVrHFMw==\n",
            "-----END PUBLIC KEY-----\n",
            "\n"
          ]
        }
      ]
    },
    {
      "cell_type": "code",
      "metadata": {
        "colab": {
          "base_uri": "https://localhost:8080/",
          "height": 426
        },
        "id": "4a03d19f",
        "outputId": "59837d44-281e-4e19-eeb2-08b3da85c25c"
      },
      "source": [
        "# Conectar a Sepolia con Infura\n",
        "infura_url = \"https://sepolia.infura.io/v3/1e0a83b4b7ea4916ba64da9e4d1213a9\"\n",
        "w3 = Web3(Web3.HTTPProvider(infura_url))\n",
        "\n",
        "print(\"¿Conectado?\", w3.is_connected())\n",
        "\n",
        "private_key = \"0x4c0883a69102937d6231471b5dbb6204fe5129617082797a64894ccf37d85a7a\"\n",
        "acct = w3.eth.account.from_key(private_key)\n",
        "print(\"Dirección:\", acct.address)\n",
        "\n",
        "# Hash del diploma\n",
        "import hashlib\n",
        "hash_diploma = hashlib.sha256(b\"Diploma Johan Ayala 2025\").hexdigest()\n",
        "print(\"Hash del diploma:\", hash_diploma)\n",
        "\n",
        "# Construir la transacción\n",
        "tx = {\n",
        "    'to': acct.address,\n",
        "    'value': 0,\n",
        "    'data': bytes.fromhex(hash_diploma),\n",
        "    'gas': 50000,\n",
        "    'gasPrice': w3.to_wei('20', 'gwei'),\n",
        "    'nonce': w3.eth.get_transaction_count(acct.address)\n",
        "}\n",
        "\n",
        "# Firmar y enviar\n",
        "signed_tx = w3.eth.account.sign_transaction(tx, private_key)\n",
        "tx_hash = w3.eth.send_raw_transaction(signed_tx.raw_transaction)\n",
        "\n",
        "print(\"Transacción enviada. Hash:\", tx_hash.hex())"
      ],
      "execution_count": 38,
      "outputs": [
        {
          "output_type": "stream",
          "name": "stdout",
          "text": [
            "¿Conectado? True\n",
            "Dirección: 0x1C98cfeaEc61518F3f80a1aD9f93E1E42AAE62CB\n",
            "Hash del diploma: 3a764b52a5debaa4ab6114a66f5726a38b9f69e432f3770c53350a73bf48b838\n"
          ]
        },
        {
          "output_type": "error",
          "ename": "Web3RPCError",
          "evalue": "{'code': -32000, 'message': 'insufficient funds for gas * price + value: balance 0, tx cost 1000000000000000, overshot 1000000000000000'}",
          "traceback": [
            "\u001b[0;31m---------------------------------------------------------------------------\u001b[0m",
            "\u001b[0;31mWeb3RPCError\u001b[0m                              Traceback (most recent call last)",
            "\u001b[0;32m/tmp/ipython-input-4145772379.py\u001b[0m in \u001b[0;36m<cell line: 0>\u001b[0;34m()\u001b[0m\n\u001b[1;32m     26\u001b[0m \u001b[0;31m# Firmar y enviar\u001b[0m\u001b[0;34m\u001b[0m\u001b[0;34m\u001b[0m\u001b[0m\n\u001b[1;32m     27\u001b[0m \u001b[0msigned_tx\u001b[0m \u001b[0;34m=\u001b[0m \u001b[0mw3\u001b[0m\u001b[0;34m.\u001b[0m\u001b[0meth\u001b[0m\u001b[0;34m.\u001b[0m\u001b[0maccount\u001b[0m\u001b[0;34m.\u001b[0m\u001b[0msign_transaction\u001b[0m\u001b[0;34m(\u001b[0m\u001b[0mtx\u001b[0m\u001b[0;34m,\u001b[0m \u001b[0mprivate_key\u001b[0m\u001b[0;34m)\u001b[0m\u001b[0;34m\u001b[0m\u001b[0;34m\u001b[0m\u001b[0m\n\u001b[0;32m---> 28\u001b[0;31m \u001b[0mtx_hash\u001b[0m \u001b[0;34m=\u001b[0m \u001b[0mw3\u001b[0m\u001b[0;34m.\u001b[0m\u001b[0meth\u001b[0m\u001b[0;34m.\u001b[0m\u001b[0msend_raw_transaction\u001b[0m\u001b[0;34m(\u001b[0m\u001b[0msigned_tx\u001b[0m\u001b[0;34m.\u001b[0m\u001b[0mraw_transaction\u001b[0m\u001b[0;34m)\u001b[0m\u001b[0;34m\u001b[0m\u001b[0;34m\u001b[0m\u001b[0m\n\u001b[0m\u001b[1;32m     29\u001b[0m \u001b[0;34m\u001b[0m\u001b[0m\n\u001b[1;32m     30\u001b[0m \u001b[0mprint\u001b[0m\u001b[0;34m(\u001b[0m\u001b[0;34m\"Transacción enviada. Hash:\"\u001b[0m\u001b[0;34m,\u001b[0m \u001b[0mtx_hash\u001b[0m\u001b[0;34m.\u001b[0m\u001b[0mhex\u001b[0m\u001b[0;34m(\u001b[0m\u001b[0;34m)\u001b[0m\u001b[0;34m)\u001b[0m\u001b[0;34m\u001b[0m\u001b[0;34m\u001b[0m\u001b[0m\n",
            "\u001b[0;32m/usr/local/lib/python3.12/dist-packages/web3/eth/eth.py\u001b[0m in \u001b[0;36msend_raw_transaction\u001b[0;34m(self, transaction)\u001b[0m\n\u001b[1;32m    395\u001b[0m \u001b[0;34m\u001b[0m\u001b[0m\n\u001b[1;32m    396\u001b[0m     \u001b[0;32mdef\u001b[0m \u001b[0msend_raw_transaction\u001b[0m\u001b[0;34m(\u001b[0m\u001b[0mself\u001b[0m\u001b[0;34m,\u001b[0m \u001b[0mtransaction\u001b[0m\u001b[0;34m:\u001b[0m \u001b[0mUnion\u001b[0m\u001b[0;34m[\u001b[0m\u001b[0mHexStr\u001b[0m\u001b[0;34m,\u001b[0m \u001b[0mbytes\u001b[0m\u001b[0;34m]\u001b[0m\u001b[0;34m)\u001b[0m \u001b[0;34m->\u001b[0m \u001b[0mHexBytes\u001b[0m\u001b[0;34m:\u001b[0m\u001b[0;34m\u001b[0m\u001b[0;34m\u001b[0m\u001b[0m\n\u001b[0;32m--> 397\u001b[0;31m         \u001b[0;32mreturn\u001b[0m \u001b[0mself\u001b[0m\u001b[0;34m.\u001b[0m\u001b[0m_send_raw_transaction\u001b[0m\u001b[0;34m(\u001b[0m\u001b[0mtransaction\u001b[0m\u001b[0;34m)\u001b[0m\u001b[0;34m\u001b[0m\u001b[0;34m\u001b[0m\u001b[0m\n\u001b[0m\u001b[1;32m    398\u001b[0m \u001b[0;34m\u001b[0m\u001b[0m\n\u001b[1;32m    399\u001b[0m     \u001b[0;31m# eth_getBlockByHash\u001b[0m\u001b[0;34m\u001b[0m\u001b[0;34m\u001b[0m\u001b[0m\n",
            "\u001b[0;32m/usr/local/lib/python3.12/dist-packages/web3/module.py\u001b[0m in \u001b[0;36mcaller\u001b[0;34m(*args, **kwargs)\u001b[0m\n\u001b[1;32m    110\u001b[0m             \u001b[0mnull_result_formatters\u001b[0m\u001b[0;34m,\u001b[0m\u001b[0;34m\u001b[0m\u001b[0;34m\u001b[0m\u001b[0m\n\u001b[1;32m    111\u001b[0m         ) = response_formatters\n\u001b[0;32m--> 112\u001b[0;31m         result = w3.manager.request_blocking(\n\u001b[0m\u001b[1;32m    113\u001b[0m             \u001b[0mmethod_str\u001b[0m\u001b[0;34m,\u001b[0m \u001b[0mparams\u001b[0m\u001b[0;34m,\u001b[0m \u001b[0merror_formatters\u001b[0m\u001b[0;34m,\u001b[0m \u001b[0mnull_result_formatters\u001b[0m\u001b[0;34m\u001b[0m\u001b[0;34m\u001b[0m\u001b[0m\n\u001b[1;32m    114\u001b[0m         )\n",
            "\u001b[0;32m/usr/local/lib/python3.12/dist-packages/web3/manager.py\u001b[0m in \u001b[0;36mrequest_blocking\u001b[0;34m(self, method, params, error_formatters, null_result_formatters)\u001b[0m\n\u001b[1;32m    231\u001b[0m         \"\"\"\n\u001b[1;32m    232\u001b[0m         \u001b[0mresponse\u001b[0m \u001b[0;34m=\u001b[0m \u001b[0mself\u001b[0m\u001b[0;34m.\u001b[0m\u001b[0m_make_request\u001b[0m\u001b[0;34m(\u001b[0m\u001b[0mmethod\u001b[0m\u001b[0;34m,\u001b[0m \u001b[0mparams\u001b[0m\u001b[0;34m)\u001b[0m\u001b[0;34m\u001b[0m\u001b[0;34m\u001b[0m\u001b[0m\n\u001b[0;32m--> 233\u001b[0;31m         return self.formatted_response(\n\u001b[0m\u001b[1;32m    234\u001b[0m             \u001b[0mresponse\u001b[0m\u001b[0;34m,\u001b[0m \u001b[0mparams\u001b[0m\u001b[0;34m,\u001b[0m \u001b[0merror_formatters\u001b[0m\u001b[0;34m,\u001b[0m \u001b[0mnull_result_formatters\u001b[0m\u001b[0;34m\u001b[0m\u001b[0;34m\u001b[0m\u001b[0m\n\u001b[1;32m    235\u001b[0m         )\n",
            "\u001b[0;32m/usr/local/lib/python3.12/dist-packages/web3/manager.py\u001b[0m in \u001b[0;36mformatted_response\u001b[0;34m(self, response, params, error_formatters, null_result_formatters)\u001b[0m\n\u001b[1;32m    197\u001b[0m         )\n\u001b[1;32m    198\u001b[0m \u001b[0;34m\u001b[0m\u001b[0m\n\u001b[0;32m--> 199\u001b[0;31m         validate_rpc_response_and_raise_if_error(\n\u001b[0m\u001b[1;32m    200\u001b[0m             \u001b[0mresponse\u001b[0m\u001b[0;34m,\u001b[0m\u001b[0;34m\u001b[0m\u001b[0;34m\u001b[0m\u001b[0m\n\u001b[1;32m    201\u001b[0m             \u001b[0merror_formatters\u001b[0m\u001b[0;34m,\u001b[0m\u001b[0;34m\u001b[0m\u001b[0;34m\u001b[0m\u001b[0m\n",
            "\u001b[0;32m/usr/local/lib/python3.12/dist-packages/web3/_utils/validation.py\u001b[0m in \u001b[0;36mvalidate_rpc_response_and_raise_if_error\u001b[0;34m(response, error_formatters, is_subscription_response, logger, params)\u001b[0m\n\u001b[1;32m    399\u001b[0m             \u001b[0mlogger\u001b[0m\u001b[0;34m.\u001b[0m\u001b[0mdebug\u001b[0m\u001b[0;34m(\u001b[0m\u001b[0;34m\"RPC error response: %s\"\u001b[0m\u001b[0;34m,\u001b[0m \u001b[0mresponse\u001b[0m\u001b[0;34m)\u001b[0m\u001b[0;34m\u001b[0m\u001b[0;34m\u001b[0m\u001b[0m\n\u001b[1;32m    400\u001b[0m \u001b[0;34m\u001b[0m\u001b[0m\n\u001b[0;32m--> 401\u001b[0;31m         \u001b[0;32mraise\u001b[0m \u001b[0mweb3_rpc_error\u001b[0m\u001b[0;34m\u001b[0m\u001b[0;34m\u001b[0m\u001b[0m\n\u001b[0m\u001b[1;32m    402\u001b[0m \u001b[0;34m\u001b[0m\u001b[0m\n\u001b[1;32m    403\u001b[0m     \u001b[0;32melif\u001b[0m \u001b[0;34m\"result\"\u001b[0m \u001b[0;32mnot\u001b[0m \u001b[0;32min\u001b[0m \u001b[0mresponse\u001b[0m \u001b[0;32mand\u001b[0m \u001b[0;32mnot\u001b[0m \u001b[0mis_subscription_response\u001b[0m\u001b[0;34m:\u001b[0m\u001b[0;34m\u001b[0m\u001b[0;34m\u001b[0m\u001b[0m\n",
            "\u001b[0;31mWeb3RPCError\u001b[0m: {'code': -32000, 'message': 'insufficient funds for gas * price + value: balance 0, tx cost 1000000000000000, overshot 1000000000000000'}"
          ]
        }
      ]
    },
    {
      "cell_type": "code",
      "metadata": {
        "colab": {
          "base_uri": "https://localhost:8080/"
        },
        "id": "60017b8a",
        "outputId": "fb03727b-cf36-4ad3-874b-305a90e459fd"
      },
      "source": [
        "df = pd.DataFrame([{\n",
        "    \"id\": diploma[\"id\"],\n",
        "    \"estudiante\": diploma[\"estudiante\"],\n",
        "    \"programa\": diploma[\"programa\"],\n",
        "    \"estado\": diploma[\"estado\"],\n",
        "    \"hash\": diploma[\"hash\"],\n",
        "    \"historial\": json.dumps(diploma[\"historial\"], ensure_ascii=False)\n",
        "}])\n",
        "df.to_csv(\"diplomas.csv\", index=False, encoding=\"utf-8\")\n",
        "print(\"Diploma guardado en diplomas.csv\")\n",
        "\n",
        "df_loaded = pd.read_csv(\"diplomas.csv\", encoding=\"utf-8\")\n",
        "print(\"Diplomas cargados:\")\n",
        "print(df_loaded)"
      ],
      "execution_count": 39,
      "outputs": [
        {
          "output_type": "stream",
          "name": "stdout",
          "text": [
            "Diploma guardado en diplomas.csv\n",
            "Diplomas cargados:\n",
            "        id     estudiante  programa             estado  \\\n",
            "0  DIP-003  Santiago Cruz  Medicina  Apto para emisión   \n",
            "\n",
            "                                                hash  \\\n",
            "0  847947f4420cb1a38b908e0a3d59f1dacb6783494f54e6...   \n",
            "\n",
            "                                           historial  \n",
            "0  [{\"estado\": \"Apto para emisión\", \"timestamp\": ...  \n"
          ]
        }
      ]
    },
    {
      "cell_type": "code",
      "metadata": {
        "id": "19e72892",
        "colab": {
          "base_uri": "https://localhost:8080/",
          "height": 807
        },
        "outputId": "a7bedb2c-9e5e-4b2a-cb86-243630e26678"
      },
      "source": [
        "# Creación diploma\n",
        "def crear_diploma(diploma):\n",
        "    fig, ax = plt.subplots(figsize=(12, 8))\n",
        "\n",
        "    # Título del diploma\n",
        "    ax.text(0.5, 0.9, \"Diploma de Grado\", fontsize=20, ha='center', fontweight='bold')\n",
        "\n",
        "    # Nombre del Estudiante\n",
        "    ax.text(0.5, 0.8, f\"Estudiante: {diploma['estudiante']}\", fontsize=16, ha='center')\n",
        "\n",
        "    # Programa o carrera\n",
        "    ax.text(0.5, 0.75, f\"Programa: {diploma['programa']}\", fontsize=14, ha='center')\n",
        "\n",
        "    # Información de créditos\n",
        "    ax.text(0.5, 0.7, f\"Créditos cumplidos: {diploma['atributos']['creditos_cumplidos']} / {diploma['atributos']['creditos_totales']}\", fontsize=12, ha='center')\n",
        "\n",
        "    # Información del certificado de idioma\n",
        "    certificado_idioma = \"Sí\" if diploma[\"atributos\"][\"certificado_idioma\"] else \"No\"\n",
        "    ax.text(0.5, 0.65, f\"Certificado de Idioma: {certificado_idioma}\", fontsize=12, ha='center')\n",
        "\n",
        "    # Información sobre el Saber Pro\n",
        "    saber_pro = \"Aprobado\" if diploma[\"atributos\"][\"saber_pro\"] else \"No Aprobado\"\n",
        "    ax.text(0.5, 0.6, f\"Saber Pro: {saber_pro}\", fontsize=12, ha='center')\n",
        "\n",
        "    # Firma (simulada, puedes agregar más detalles)\n",
        "    ax.text(0.25, 0.1, \"Firma del Rector\", fontsize=14, ha='center', fontweight='bold')\n",
        "    ax.text(0.75, 0.1, \"Firma del Decano\", fontsize=14, ha='center', fontweight='bold')\n",
        "\n",
        "    # Fecha de emisión\n",
        "    fecha_emision = \"Fecha de emisión: 2025-10-10\"  # Se puede personalizar con la fecha real\n",
        "    ax.text(0.5, 0.05, fecha_emision, fontsize=10, ha='center')\n",
        "\n",
        "    # Información adicional fuera del diploma (pero visible)\n",
        "    ax.text(0.5, 0.95, \"Información adicional:\", fontsize=12, ha='center', fontweight='bold')\n",
        "    ax.text(0.5, 0.85, f\"Paz y Salvo: {diploma['atributos']['paz_y_salvo']}\", fontsize=12, ha='center')\n",
        "    ax.text(0.5, 0.8, f\"Deudas pendientes: {diploma['atributos']['deudas']}\", fontsize=12, ha='center')\n",
        "\n",
        "    # Diseño del borde del diploma\n",
        "    box = FancyBboxPatch((0, 0), 1, 1, boxstyle=\"round,pad=0.05\", linewidth=3, edgecolor=\"black\", facecolor=\"none\")\n",
        "    ax.add_patch(box)\n",
        "\n",
        "    # Configurar el gráfico\n",
        "    ax.set_xlim(0, 1)\n",
        "    ax.set_ylim(0, 1)\n",
        "    ax.axis(\"off\")\n",
        "\n",
        "    # Mostrar el \"diploma\"\n",
        "    plt.tight_layout()\n",
        "    plt.show()\n",
        "\n",
        "# Crear el diploma visual\n",
        "crear_diploma(diploma)"
      ],
      "execution_count": 40,
      "outputs": [
        {
          "output_type": "display_data",
          "data": {
            "text/plain": [
              "<Figure size 1200x800 with 1 Axes>"
            ],
            "image/png": "[encoded data removed]"
          },
          "metadata": {}
        }
      ]
    }
  ]
}